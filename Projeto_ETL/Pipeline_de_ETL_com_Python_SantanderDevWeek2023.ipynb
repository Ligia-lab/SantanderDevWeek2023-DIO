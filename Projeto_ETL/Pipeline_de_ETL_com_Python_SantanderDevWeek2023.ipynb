{
  "nbformat": 4,
  "nbformat_minor": 0,
  "metadata": {
    "colab": {
      "provenance": [],
      "toc_visible": true
    },
    "kernelspec": {
      "name": "python3",
      "display_name": "Python 3"
    },
    "language_info": {
      "name": "python"
    }
  },
  "cells": [
    {
      "cell_type": "markdown",
      "source": [
        "# Extract"
      ],
      "metadata": {
        "id": "TpNE6cmDWlKa"
      }
    },
    {
      "cell_type": "markdown",
      "source": [
        "Dados de Listagem de Filmes Brasileiros e Estrangeiros Lançados 2009 a 2022, da ANCINE - Agência Nacional do Cinema, https://www.gov.br/ancine/pt-br/oca/cinema-."
      ],
      "metadata": {
        "id": "tqi9tXHxsxM0"
      }
    },
    {
      "cell_type": "code",
      "execution_count": null,
      "metadata": {
        "id": "ngEbbf5IKhhn"
      },
      "outputs": [],
      "source": [
        "import pandas as pd"
      ]
    },
    {
      "cell_type": "code",
      "source": [
        "df = pd.read_csv('/content/listagem-de-filmes-brasileiros-e-estrangeiros-lancados-2009-a-2022.csv', sep=';')"
      ],
      "metadata": {
        "id": "nPi68UDGNQCf"
      },
      "execution_count": null,
      "outputs": []
    },
    {
      "cell_type": "code",
      "source": [
        "df.head(30)\n"
      ],
      "metadata": {
        "id": "-4gGjYljNWNq"
      },
      "execution_count": null,
      "outputs": []
    },
    {
      "cell_type": "code",
      "source": [
        "df.columns"
      ],
      "metadata": {
        "id": "DgbVK2N3N0eu"
      },
      "execution_count": null,
      "outputs": []
    },
    {
      "cell_type": "code",
      "source": [
        "df.shape"
      ],
      "metadata": {
        "id": "RKkMRz8OP4gY"
      },
      "execution_count": null,
      "outputs": []
    },
    {
      "cell_type": "markdown",
      "source": [
        "# Transform"
      ],
      "metadata": {
        "id": "x63-mkZfWt0b"
      }
    },
    {
      "cell_type": "markdown",
      "source": [
        "Limpeza de dados nulos e organização da lista de acordo com a maior quantidade de Salas em exibição, na data de lançamento dos filmes de 2009 a 2011."
      ],
      "metadata": {
        "id": "k30W_Em_tH-P"
      }
    },
    {
      "cell_type": "code",
      "source": [
        "df2 = df[['Ano de Lançamento', 'Título da obra', 'Gênero', 'Nacionalidade da obra',\n",
        "        'Empresa distribuidora', 'Salas no Lançamento']]"
      ],
      "metadata": {
        "id": "Ca8nfLV-QppX"
      },
      "execution_count": null,
      "outputs": []
    },
    {
      "cell_type": "code",
      "source": [
        "df_sem_nulos = df2.dropna()"
      ],
      "metadata": {
        "id": "8Lc5Qm3vUriD"
      },
      "execution_count": null,
      "outputs": []
    },
    {
      "cell_type": "code",
      "source": [
        "df_sem_nulos.to_csv('filmes_sem_nulos.csv', index = False)"
      ],
      "metadata": {
        "id": "RPrtwTtqVCrq"
      },
      "execution_count": null,
      "outputs": []
    },
    {
      "cell_type": "code",
      "source": [
        "df_sem_nulos = pd.read_csv('/content/filmes_sem_nulos.csv')"
      ],
      "metadata": {
        "id": "rhAOLC2IWYPL"
      },
      "execution_count": null,
      "outputs": []
    },
    {
      "cell_type": "code",
      "source": [
        "df_sem_nulos.head(30)"
      ],
      "metadata": {
        "id": "FwF0l9-Db8B4"
      },
      "execution_count": null,
      "outputs": []
    },
    {
      "cell_type": "code",
      "source": [
        "df_sorted = df_sem_nulos.sort_values('Salas no Lançamento', ascending=False)"
      ],
      "metadata": {
        "id": "_O87P6WocN_2"
      },
      "execution_count": null,
      "outputs": []
    },
    {
      "cell_type": "code",
      "source": [
        "df_sorted.head(30)"
      ],
      "metadata": {
        "id": "bJu7uhBSfliY"
      },
      "execution_count": null,
      "outputs": []
    },
    {
      "cell_type": "code",
      "source": [
        "df_sorted.info()"
      ],
      "metadata": {
        "id": "RJYx9LsxmeSD"
      },
      "execution_count": null,
      "outputs": []
    },
    {
      "cell_type": "code",
      "source": [
        "df_nd = df_sorted.apply(lambda x: x.replace('ND','0'))"
      ],
      "metadata": {
        "id": "SvYtBmB2mrW3"
      },
      "execution_count": null,
      "outputs": []
    },
    {
      "cell_type": "code",
      "source": [
        "df_nd.info()"
      ],
      "metadata": {
        "id": "m4UWF30Aot6o"
      },
      "execution_count": null,
      "outputs": []
    },
    {
      "cell_type": "code",
      "source": [
        "df_nd['Salas no Lançamento'] = pd.to_numeric(df_nd['Salas no Lançamento'])\n"
      ],
      "metadata": {
        "id": "1GG340winaxW"
      },
      "execution_count": null,
      "outputs": []
    },
    {
      "cell_type": "code",
      "source": [
        "df_nd['Salas no Lançamento'] = df_nd['Salas no Lançamento'].astype(int)"
      ],
      "metadata": {
        "id": "TAXiWh1fpavx"
      },
      "execution_count": null,
      "outputs": []
    },
    {
      "cell_type": "code",
      "source": [
        "df_sorted_num = df_nd.sort_values('Salas no Lançamento', ascending=False)"
      ],
      "metadata": {
        "id": "jBow0yIRpm8r"
      },
      "execution_count": null,
      "outputs": []
    },
    {
      "cell_type": "code",
      "source": [
        "df_sorted_num.head(30)"
      ],
      "metadata": {
        "id": "6Vl1hdNopqTg"
      },
      "execution_count": null,
      "outputs": []
    },
    {
      "cell_type": "markdown",
      "source": [
        "# Load"
      ],
      "metadata": {
        "id": "QjjXcQ_dWyWA"
      }
    },
    {
      "cell_type": "markdown",
      "source": [
        "Tabela ordenada salva em um novo arquivo csv."
      ],
      "metadata": {
        "id": "qqz2ubRvtazQ"
      }
    },
    {
      "cell_type": "code",
      "source": [
        "df_sorted_num.to_csv('Quantidade_de_salas_no_lancamento_2009_a_2011.csv')"
      ],
      "metadata": {
        "id": "cCvN5yasW6-y"
      },
      "execution_count": null,
      "outputs": []
    },
    {
      "cell_type": "code",
      "source": [],
      "metadata": {
        "id": "PhPzfIPiqnwR"
      },
      "execution_count": null,
      "outputs": []
    }
  ]
}